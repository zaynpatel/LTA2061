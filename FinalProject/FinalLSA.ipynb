{
 "cells": [
  {
   "cell_type": "code",
   "execution_count": 18,
   "id": "5240fd16",
   "metadata": {},
   "outputs": [],
   "source": [
    "import re\n",
    "import requests\n",
    "import matplotlib.pyplot as plt\n",
    "import numpy as np\n",
    "import pandas as pd\n",
    "import pypdf\n",
    "import scipy\n",
    "import seaborn as sns\n",
    "import sympy as sp\n",
    "from bs4 import BeautifulSoup\n",
    "from nltk.tokenize import sent_tokenize\n",
    "from sklearn.decomposition import TruncatedSVD\n",
    "from sklearn.feature_extraction.text import TfidfVectorizer"
   ]
  },
  {
   "cell_type": "markdown",
   "id": "873f5fc1",
   "metadata": {},
   "source": [
    "### Scrape web for poem data (get it, clean it, put it in one DataFrame)\n",
    "\n",
    "Poem links and year of publish:\n",
    "\n",
    "- [Theme for English B (2002)](https://www.poetryfoundation.org/poems/47880/theme-for-english-b)\n",
    "- [Harlem (2002)](https://www.poetryfoundation.org/poems/46548/harlem)\n",
    "- [AmeRícan (1990)](https://www.poetryfoundation.org/poems/58197/american)\n",
    "- [Lady Liberty (1990)](https://www.poetryfoundation.org/poems/58195/lady-liberty)\n",
    "- [Autobiography of A Nuyorican (1990)](https://www.sandraesteves.com/images/AutobiographyNuyorican.SandraMariaEsteves.pdf)"
   ]
  },
  {
   "cell_type": "code",
   "execution_count": 55,
   "id": "3ae5f68a",
   "metadata": {},
   "outputs": [],
   "source": [
    "def scrape_poems(link: str, class_:str):\n",
    "    response = requests.get(link)\n",
    "    soup = BeautifulSoup(response.content, 'html.parser')\n",
    "    poem = soup.find_all('div', class_=class_)\n",
    "    clean_poem = [element.get_text().replace('\\xa0', ' ') for element in poem]\n",
    "    clean_poem = [re.sub(r'\\r', '', text) for text in clean_poem if text.strip()]\n",
    "    tokenize_poem = []\n",
    "    for item in clean_poem:\n",
    "        tokenize_poem.extend(sent_tokenize(item))\n",
    "    \n",
    "    return pd.DataFrame(tokenize_poem, columns=['Sentence'])"
   ]
  },
  {
   "cell_type": "code",
   "execution_count": 57,
   "id": "9d752717",
   "metadata": {},
   "outputs": [],
   "source": [
    "poem1_df = scrape_poems(\"https://www.poetryfoundation.org/poems/47880/theme-for-english-b\", \"max-w-full flex-1 md:mb-6\")\n",
    "poem1_df['Title'] = 'Theme for English B'\n",
    "poem2_df = scrape_poems(\"https://www.poetryfoundation.org/poems/46548/harlem\", \"max-w-full flex-1 md:mb-6\")\n",
    "poem2_df['Title'] = 'Harlem'\n",
    "poem3_df = scrape_poems(\"https://www.poetryfoundation.org/poems/58197/american\", \"max-w-full flex-1 md:mb-6\")\n",
    "poem3_df['Title'] = 'AmeRícan'\n",
    "poem4_df = scrape_poems(\"https://www.poetryfoundation.org/poems/58195/lady-liberty\", \"max-w-full flex-1 md:mb-6\")\n",
    "poem4_df['Title'] = 'Lady Liberty'"
   ]
  },
  {
   "cell_type": "code",
   "execution_count": 58,
   "id": "1b65352c",
   "metadata": {},
   "outputs": [],
   "source": [
    "reader = pypdf.PdfReader('AutobiographyNuyorican.SandraMariaEsteves.pdf')\n",
    "\n",
    "pdf_text = \"\"\n",
    "for num in range(len(reader.pages)):\n",
    "    pdf_text += reader.pages[num].extract_text()\n",
    "\n",
    "# Regular expression that matches all text until the period, splits on the period and returns a list of each sentence\n",
    "# If I used the split('.') method this would have removed periods and I didn't want that\n",
    "sentences = re.findall(r'[^.]+(?:\\.)', pdf_text)\n",
    "poem5_df = pd.DataFrame(sentences, columns=['Sentence'])\n",
    "poem5_df['Title'] = 'Autobiography of A Nuyorican'"
   ]
  },
  {
   "cell_type": "code",
   "execution_count": 83,
   "id": "35ee350c",
   "metadata": {},
   "outputs": [],
   "source": [
    "allpoems = pd.concat([poem1_df, poem2_df, poem3_df, poem4_df, poem5_df], ignore_index=True)\n",
    "assert len(allpoems) == (len(poem1_df) + len(poem2_df) + len(poem3_df) + len(poem4_df) + len(poem5_df))"
   ]
  },
  {
   "cell_type": "code",
   "execution_count": 84,
   "id": "1b528bed",
   "metadata": {},
   "outputs": [
    {
     "data": {
      "text/html": [
       "<div>\n",
       "<style scoped>\n",
       "    .dataframe tbody tr th:only-of-type {\n",
       "        vertical-align: middle;\n",
       "    }\n",
       "\n",
       "    .dataframe tbody tr th {\n",
       "        vertical-align: top;\n",
       "    }\n",
       "\n",
       "    .dataframe thead th {\n",
       "        text-align: right;\n",
       "    }\n",
       "</style>\n",
       "<table border=\"1\" class=\"dataframe\">\n",
       "  <thead>\n",
       "    <tr style=\"text-align: right;\">\n",
       "      <th></th>\n",
       "      <th>Sentence</th>\n",
       "      <th>Title</th>\n",
       "    </tr>\n",
       "  </thead>\n",
       "  <tbody>\n",
       "    <tr>\n",
       "      <th>0</th>\n",
       "      <td>Theme for English BBy Langston HughesShare thi...</td>\n",
       "      <td>Theme for English B</td>\n",
       "    </tr>\n",
       "    <tr>\n",
       "      <th>1</th>\n",
       "      <td>And let that page come out of you—       Then,...</td>\n",
       "      <td>Theme for English B</td>\n",
       "    </tr>\n",
       "    <tr>\n",
       "      <th>2</th>\n",
       "      <td>I wonder if it’s that simple?</td>\n",
       "      <td>Theme for English B</td>\n",
       "    </tr>\n",
       "    <tr>\n",
       "      <th>3</th>\n",
       "      <td>I am twenty-two, colored, born in Winston-Salem.</td>\n",
       "      <td>Theme for English B</td>\n",
       "    </tr>\n",
       "    <tr>\n",
       "      <th>4</th>\n",
       "      <td>I went to school there, then Durham, then here...</td>\n",
       "      <td>Theme for English B</td>\n",
       "    </tr>\n",
       "    <tr>\n",
       "      <th>...</th>\n",
       "      <td>...</td>\n",
       "      <td>...</td>\n",
       "    </tr>\n",
       "    <tr>\n",
       "      <th>79</th>\n",
       "      <td>Gasping and innocent,before she knew her mothe...</td>\n",
       "      <td>Autobiography of A Nuyorican</td>\n",
       "    </tr>\n",
       "    <tr>\n",
       "      <th>80</th>\n",
       "      <td>Barely alive.</td>\n",
       "      <td>Autobiography of A Nuyorican</td>\n",
       "    </tr>\n",
       "    <tr>\n",
       "      <th>81</th>\n",
       "      <td>Gathering weapons into her beingwith each brea...</td>\n",
       "      <td>Autobiography of A Nuyorican</td>\n",
       "    </tr>\n",
       "    <tr>\n",
       "      <th>82</th>\n",
       "      <td>Growing stronger.</td>\n",
       "      <td>Autobiography of A Nuyorican</td>\n",
       "    </tr>\n",
       "    <tr>\n",
       "      <th>83</th>\n",
       "      <td>Determined to beat all the odds.</td>\n",
       "      <td>Autobiography of A Nuyorican</td>\n",
       "    </tr>\n",
       "  </tbody>\n",
       "</table>\n",
       "<p>84 rows × 2 columns</p>\n",
       "</div>"
      ],
      "text/plain": [
       "                                             Sentence  \\\n",
       "0   Theme for English BBy Langston HughesShare thi...   \n",
       "1   And let that page come out of you—       Then,...   \n",
       "2                       I wonder if it’s that simple?   \n",
       "3    I am twenty-two, colored, born in Winston-Salem.   \n",
       "4   I went to school there, then Durham, then here...   \n",
       "..                                                ...   \n",
       "79  Gasping and innocent,before she knew her mothe...   \n",
       "80                                      Barely alive.   \n",
       "81  Gathering weapons into her beingwith each brea...   \n",
       "82                                  Growing stronger.   \n",
       "83                   Determined to beat all the odds.   \n",
       "\n",
       "                           Title  \n",
       "0            Theme for English B  \n",
       "1            Theme for English B  \n",
       "2            Theme for English B  \n",
       "3            Theme for English B  \n",
       "4            Theme for English B  \n",
       "..                           ...  \n",
       "79  Autobiography of A Nuyorican  \n",
       "80  Autobiography of A Nuyorican  \n",
       "81  Autobiography of A Nuyorican  \n",
       "82  Autobiography of A Nuyorican  \n",
       "83  Autobiography of A Nuyorican  \n",
       "\n",
       "[84 rows x 2 columns]"
      ]
     },
     "execution_count": 84,
     "metadata": {},
     "output_type": "execute_result"
    }
   ],
   "source": [
    "allpoems"
   ]
  },
  {
   "cell_type": "markdown",
   "id": "f4e61979",
   "metadata": {},
   "source": [
    "### Build TF-IDF matrix using `TfidfVectorizer()`"
   ]
  },
  {
   "cell_type": "code",
   "execution_count": 85,
   "id": "9e7b06a4",
   "metadata": {},
   "outputs": [
    {
     "data": {
      "text/plain": [
       "(84, 599)"
      ]
     },
     "execution_count": 85,
     "metadata": {},
     "output_type": "execute_result"
    }
   ],
   "source": [
    "vectorizer = TfidfVectorizer(stop_words='english', norm='l2')\n",
    "Tfidf = vectorizer.fit_transform(allpoems.Sentence)\n",
    "Tfidf.shape"
   ]
  },
  {
   "cell_type": "markdown",
   "id": "077a5155",
   "metadata": {},
   "source": [
    "### EDA before choosing k"
   ]
  },
  {
   "cell_type": "code",
   "execution_count": 86,
   "id": "ea1e5054",
   "metadata": {},
   "outputs": [],
   "source": [
    "eda_svd = TruncatedSVD(n_components=599)\n",
    "eda_lsa = eda_svd.fit_transform(Tfidf)"
   ]
  },
  {
   "cell_type": "code",
   "execution_count": 87,
   "id": "2c1921b8",
   "metadata": {},
   "outputs": [
    {
     "data": {
      "text/plain": [
       "Text(0, 0.5, 'Singular values of Tfidf')"
      ]
     },
     "execution_count": 87,
     "metadata": {},
     "output_type": "execute_result"
    },
    {
     "data": {
      "image/png": "[encoded data removed]",
      "text/plain": [
       "<Figure size 640x480 with 1 Axes>"
      ]
     },
     "metadata": {},
     "output_type": "display_data"
    }
   ],
   "source": [
    "plt.bar([n for n in range(len(eda_svd.singular_values_))], height = eda_svd.singular_values_)\n",
    "plt.xlabel(\"Index of the singular values (1-84)\") # Some of these, especially after 75 may be non-zero but very small. We know non-zero singular values are one method to figure out the rank of the matrix.\n",
    "plt.ylabel(\"Singular values of Tfidf\")"
   ]
  },
  {
   "cell_type": "code",
   "execution_count": 88,
   "id": "19f87b67",
   "metadata": {},
   "outputs": [
    {
     "data": {
      "text/plain": [
       "Text(0, 0.5, 'Singular values of tf_idf_matrix')"
      ]
     },
     "execution_count": 88,
     "metadata": {},
     "output_type": "execute_result"
    },
    {
     "data": {
      "image/png": "[encoded data removed]",
      "text/plain": [
       "<Figure size 640x480 with 1 Axes>"
      ]
     },
     "metadata": {},
     "output_type": "display_data"
    }
   ],
   "source": [
    "plt.bar([n for n in range(len(eda_svd.singular_values_))[:50]], height = eda_svd.singular_values_[:50])\n",
    "plt.axvline(x = 8, color = 'r', linestyle = '-', linewidth = 2)\n",
    "plt.xlabel(\"Index of the singular values (1-10)\")\n",
    "plt.ylabel(\"Singular values of tf_idf_matrix\")"
   ]
  },
  {
   "cell_type": "markdown",
   "id": "fe2499c4",
   "metadata": {},
   "source": [
    "### Apply SVD, after EDA, using `TruncatedSVD()`"
   ]
  },
  {
   "cell_type": "code",
   "execution_count": 89,
   "id": "9020d538",
   "metadata": {},
   "outputs": [],
   "source": [
    "# May need to look at n_components = 8 and specifically at 6, 7, 8\n",
    "# I think 1-5 will correspond to each poem (similar to previous LSA)\n",
    "\n",
    "two_svd = TruncatedSVD(n_components=2)\n",
    "two_lsa = two_svd.fit_transform(Tfidf)"
   ]
  },
  {
   "cell_type": "code",
   "execution_count": 91,
   "id": "5688d0c7",
   "metadata": {},
   "outputs": [
    {
     "data": {
      "text/html": [
       "<div>\n",
       "<style scoped>\n",
       "    .dataframe tbody tr th:only-of-type {\n",
       "        vertical-align: middle;\n",
       "    }\n",
       "\n",
       "    .dataframe tbody tr th {\n",
       "        vertical-align: top;\n",
       "    }\n",
       "\n",
       "    .dataframe thead th {\n",
       "        text-align: right;\n",
       "    }\n",
       "</style>\n",
       "<table border=\"1\" class=\"dataframe\">\n",
       "  <thead>\n",
       "    <tr style=\"text-align: right;\">\n",
       "      <th></th>\n",
       "      <th>Topic 1</th>\n",
       "      <th>Topic 2</th>\n",
       "      <th>Sentence</th>\n",
       "    </tr>\n",
       "  </thead>\n",
       "  <tbody>\n",
       "    <tr>\n",
       "      <th>0</th>\n",
       "      <td>0.216012</td>\n",
       "      <td>-0.214848</td>\n",
       "      <td>Theme for English BBy Langston HughesShare thi...</td>\n",
       "    </tr>\n",
       "    <tr>\n",
       "      <th>1</th>\n",
       "      <td>0.045957</td>\n",
       "      <td>-0.093931</td>\n",
       "      <td>And let that page come out of you—       Then,...</td>\n",
       "    </tr>\n",
       "    <tr>\n",
       "      <th>2</th>\n",
       "      <td>0.000082</td>\n",
       "      <td>-0.000301</td>\n",
       "      <td>I wonder if it’s that simple?</td>\n",
       "    </tr>\n",
       "    <tr>\n",
       "      <th>3</th>\n",
       "      <td>0.005541</td>\n",
       "      <td>-0.026765</td>\n",
       "      <td>I am twenty-two, colored, born in Winston-Salem.</td>\n",
       "    </tr>\n",
       "    <tr>\n",
       "      <th>4</th>\n",
       "      <td>0.027829</td>\n",
       "      <td>-0.035777</td>\n",
       "      <td>I went to school there, then Durham, then here...</td>\n",
       "    </tr>\n",
       "    <tr>\n",
       "      <th>...</th>\n",
       "      <td>...</td>\n",
       "      <td>...</td>\n",
       "      <td>...</td>\n",
       "    </tr>\n",
       "    <tr>\n",
       "      <th>79</th>\n",
       "      <td>0.001693</td>\n",
       "      <td>0.002280</td>\n",
       "      <td>Gasping and innocent,before she knew her mothe...</td>\n",
       "    </tr>\n",
       "    <tr>\n",
       "      <th>80</th>\n",
       "      <td>0.000924</td>\n",
       "      <td>0.000768</td>\n",
       "      <td>Barely alive.</td>\n",
       "    </tr>\n",
       "    <tr>\n",
       "      <th>81</th>\n",
       "      <td>0.000278</td>\n",
       "      <td>-0.000472</td>\n",
       "      <td>Gathering weapons into her beingwith each brea...</td>\n",
       "    </tr>\n",
       "    <tr>\n",
       "      <th>82</th>\n",
       "      <td>-0.000166</td>\n",
       "      <td>0.003477</td>\n",
       "      <td>Growing stronger.</td>\n",
       "    </tr>\n",
       "    <tr>\n",
       "      <th>83</th>\n",
       "      <td>-0.000440</td>\n",
       "      <td>-0.000089</td>\n",
       "      <td>Determined to beat all the odds.</td>\n",
       "    </tr>\n",
       "  </tbody>\n",
       "</table>\n",
       "<p>84 rows × 3 columns</p>\n",
       "</div>"
      ],
      "text/plain": [
       "     Topic 1   Topic 2                                           Sentence\n",
       "0   0.216012 -0.214848  Theme for English BBy Langston HughesShare thi...\n",
       "1   0.045957 -0.093931  And let that page come out of you—       Then,...\n",
       "2   0.000082 -0.000301                      I wonder if it’s that simple?\n",
       "3   0.005541 -0.026765   I am twenty-two, colored, born in Winston-Salem.\n",
       "4   0.027829 -0.035777  I went to school there, then Durham, then here...\n",
       "..       ...       ...                                                ...\n",
       "79  0.001693  0.002280  Gasping and innocent,before she knew her mothe...\n",
       "80  0.000924  0.000768                                      Barely alive.\n",
       "81  0.000278 -0.000472  Gathering weapons into her beingwith each brea...\n",
       "82 -0.000166  0.003477                                  Growing stronger.\n",
       "83 -0.000440 -0.000089                   Determined to beat all the odds.\n",
       "\n",
       "[84 rows x 3 columns]"
      ]
     },
     "metadata": {},
     "output_type": "display_data"
    }
   ],
   "source": [
    "topic_encoded_df = pd.DataFrame(two_lsa, columns=['Topic 1', 'Topic 2'])\n",
    "topic_encoded_df['Sentence'] = allpoems.Sentence"
   ]
  },
  {
   "cell_type": "markdown",
   "id": "abd2e27c",
   "metadata": {},
   "source": [
    "### Explore topics and turn the DataFrames into presentable tables"
   ]
  },
  {
   "cell_type": "markdown",
   "id": "730ced78",
   "metadata": {},
   "source": [
    "### Plot topic data"
   ]
  },
  {
   "cell_type": "markdown",
   "id": "f9d8c59f",
   "metadata": {},
   "source": [
    "### Explore words in each topic and make this a presentable table"
   ]
  }
 ],
 "metadata": {
  "kernelspec": {
   "display_name": "Python 3 (ipykernel)",
   "language": "python",
   "name": "python3"
  },
  "language_info": {
   "codemirror_mode": {
    "name": "ipython",
    "version": 3
   },
   "file_extension": ".py",
   "mimetype": "text/x-python",
   "name": "python",
   "nbconvert_exporter": "python",
   "pygments_lexer": "ipython3",
   "version": "3.11.5"
  }
 },
 "nbformat": 4,
 "nbformat_minor": 5
}
